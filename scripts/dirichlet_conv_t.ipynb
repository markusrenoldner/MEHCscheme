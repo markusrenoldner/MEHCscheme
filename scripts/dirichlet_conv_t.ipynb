{
 "cells": [
  {
   "cell_type": "code",
   "execution_count": null,
   "metadata": {},
   "outputs": [],
   "source": [
    "import numpy as np\n",
    "import matplotlib.pyplot as plt \n",
    "from numpy import genfromtxt"
   ]
  },
  {
   "attachments": {},
   "cell_type": "markdown",
   "metadata": {},
   "source": [
    "- simple sinus, dt=0.01, Re1\n",
    "- simple sinus, dt=0.01, invisc\n",
    "- static TGV,    dt=0.01, Re1\n",
    "- static TGV,    dt=0.01, invisc\n",
    "- simple sinus, order 2, dt=0.0001, Re1\n",
    "- simple sinus, order 2, dt=0.0001, invisc\n",
    "- static TGV, order 2, dt=0.0001, Re1\n",
    "- static TGV, order 2, dt=0.0001, invisc"
   ]
  },
  {
   "attachments": {},
   "cell_type": "markdown",
   "metadata": {},
   "source": [
    "# simple sinus, dt=0.01"
   ]
  },
  {
   "cell_type": "code",
   "execution_count": null,
   "metadata": {},
   "outputs": [],
   "source": [
    "filename = \"dirichlet-conv-Re1-sin\"\n",
    "\n",
    "data   = np.genfromtxt(\"../out/rawdata/\"+filename+\".txt\", delimiter=',').flatten()\n",
    "refstep = data[0::4][-5:]\n",
    "u =       data[1::4][-5:]\n",
    "v =       data[2::4][-5:]\n",
    "uvdiff =  data[3::4][-5:]\n",
    "\n",
    "plt.plot(refstep,u,\"m.-\",label= \"u\")\n",
    "plt.plot(refstep,v,\"co-\",label=\"v\")\n",
    "plt.plot(refstep,uvdiff,\"b.:\",label=\"u-v\")\n",
    "plt.plot(refstep,[0.25*refstep[i]**1 for i in range(len(refstep))],\"k-.\",label=\"$O(h^1)$\")\n",
    "plt.plot(refstep,[0.02*refstep[i]**2 for i in range(len(refstep))],\"k--\",label=\"$O(h^2)$\")\n",
    "plt.legend()\n",
    "plt.yscale(\"log\")\n",
    "plt.xscale(\"log\")\n",
    "plt.ylabel(\"$L^2$-error\")\n",
    "plt.xlabel(\"$h$\")\n",
    "plt.tight_layout()  \n",
    "plt.grid()\n",
    "plt.savefig(\"../out/plots/\"+filename+\".pdf\")"
   ]
  },
  {
   "cell_type": "code",
   "execution_count": null,
   "metadata": {},
   "outputs": [],
   "source": [
    "filename = \"dirichlet-conv-invisc-sin\"\n",
    "\n",
    "data   = np.genfromtxt(\"../out/rawdata/\"+filename+\".txt\", delimiter=',').flatten()\n",
    "refstep = data[0::4][-5:]\n",
    "u =       data[1::4][-5:]\n",
    "v =       data[2::4][-5:]\n",
    "uvdiff =  data[3::4][-5:]\n",
    "\n",
    "plt.plot(refstep,u,\"m.-\",label= \"u\")\n",
    "plt.plot(refstep,v,\"co-\",label=\"v\")\n",
    "plt.plot(refstep,uvdiff,\"b.:\",label=\"u-v\")\n",
    "plt.plot(refstep,[0.25*refstep[i]**1 for i in range(len(refstep))],\"k-.\",label=\"$O(h^1)$\")\n",
    "plt.plot(refstep,[0.02*refstep[i]**2 for i in range(len(refstep))],\"k--\",label=\"$O(h^2)$\")\n",
    "plt.legend()\n",
    "plt.yscale(\"log\")\n",
    "plt.xscale(\"log\")\n",
    "plt.ylabel(\"$L^2$-error\")\n",
    "plt.xlabel(\"$h$\")\n",
    "plt.tight_layout()  \n",
    "plt.grid()\n",
    "plt.savefig(\"../out/plots/\"+filename+\".pdf\")"
   ]
  },
  {
   "attachments": {},
   "cell_type": "markdown",
   "metadata": {},
   "source": [
    "# simple sinus, order 2, dt=0.01"
   ]
  },
  {
   "cell_type": "code",
   "execution_count": null,
   "metadata": {},
   "outputs": [],
   "source": [
    "filename = \"dirichlet-conv-Re1-sin2\"\n",
    "\n",
    "data   = np.genfromtxt(\"../out/rawdata/\"+filename+\".txt\", delimiter=',').flatten()\n",
    "refstep = data[0::4][-4:]\n",
    "u =       data[1::4][-4:]\n",
    "v =       data[2::4][-4:]\n",
    "uvdiff =  data[3::4][-4:]\n",
    "\n",
    "plt.plot(refstep,u,\"m.-\",label= \"u\")\n",
    "plt.plot(refstep,v,\"co-\",label=\"v\")\n",
    "plt.plot(refstep,uvdiff,\"b.:\",label=\"u-v\")\n",
    "plt.plot(refstep,[0.02*refstep[i]**2 for i in range(len(refstep))],\"k-.\",label=\"$O(h^2)$\")\n",
    "plt.plot(refstep,[0.005*refstep[i]**3 for i in range(len(refstep))],\"k--\",label=\"$O(h^3)$\")\n",
    "plt.legend()\n",
    "plt.yscale(\"log\")\n",
    "plt.xscale(\"log\")\n",
    "plt.ylabel(\"$L^2$-error\")\n",
    "plt.xlabel(\"$h$\")\n",
    "plt.tight_layout()  \n",
    "plt.grid()\n",
    "plt.savefig(\"../out/plots/\"+filename+\".pdf\")"
   ]
  },
  {
   "cell_type": "code",
   "execution_count": null,
   "metadata": {},
   "outputs": [],
   "source": [
    "filename = \"dirichlet-conv-invisc-sin2\"\n",
    "\n",
    "data   = np.genfromtxt(\"../out/rawdata/\"+filename+\".txt\", delimiter=',').flatten()\n",
    "refstep = data[0::4][-4:]\n",
    "u =       data[1::4][-4:]\n",
    "v =       data[2::4][-4:]\n",
    "uvdiff =  data[3::4][-4:]\n",
    "\n",
    "plt.plot(refstep,u,\"m.-\",label= \"u\")\n",
    "plt.plot(refstep,v,\"co-\",label=\"v\")\n",
    "plt.plot(refstep,uvdiff,\"b.:\",label=\"u-v\")\n",
    "plt.plot(refstep,[0.02*refstep[i]**2 for i in range(len(refstep))],\"k-.\",label=\"$O(h^2)$\")\n",
    "plt.plot(refstep,[0.005*refstep[i]**3 for i in range(len(refstep))],\"k--\",label=\"$O(h^3)$\")\n",
    "plt.legend()\n",
    "plt.yscale(\"log\")\n",
    "plt.xscale(\"log\")\n",
    "plt.ylabel(\"$L^2$-error\")\n",
    "plt.xlabel(\"$h$\")\n",
    "plt.tight_layout()  \n",
    "plt.grid()\n",
    "plt.savefig(\"../out/plots/\"+filename+\".pdf\")"
   ]
  },
  {
   "attachments": {},
   "cell_type": "markdown",
   "metadata": {},
   "source": [
    "# sTGV, dt=0.01"
   ]
  },
  {
   "cell_type": "code",
   "execution_count": null,
   "metadata": {},
   "outputs": [],
   "source": [
    "filename = \"dirichlet-conv-Re1-sTGV\"\n",
    "\n",
    "data   = np.genfromtxt(\"../out/rawdata/\"+filename+\".txt\", delimiter=',').flatten()\n",
    "refstep = data[0::4][-5:]\n",
    "u =       data[1::4][-5:]\n",
    "v =       data[2::4][-5:]\n",
    "uvdiff =  data[3::4][-5:]\n",
    "\n",
    "plt.plot(refstep,u,\"m.-\",label= \"u\")\n",
    "plt.plot(refstep,v,\"co-\",label=\"v\")\n",
    "plt.plot(refstep,uvdiff,\"b.:\",label=\"u-v\")\n",
    "plt.plot(refstep,[0.25*refstep[i]**1 for i in range(len(refstep))],\"k-.\",label=\"$O(h^1)$\")\n",
    "plt.plot(refstep,[0.02*refstep[i]**1 for i in range(len(refstep))],\"k-.\")\n",
    "plt.legend()\n",
    "plt.yscale(\"log\")\n",
    "plt.xscale(\"log\")\n",
    "plt.ylabel(\"$L^2$-error\")\n",
    "plt.xlabel(\"$h$\")\n",
    "plt.tight_layout()  \n",
    "plt.grid()\n",
    "plt.savefig(\"../out/plots/\"+filename+\".pdf\")"
   ]
  },
  {
   "cell_type": "code",
   "execution_count": null,
   "metadata": {},
   "outputs": [],
   "source": [
    "filename = \"dirichlet-conv-invisc-sTGV\"\n",
    "\n",
    "data   = np.genfromtxt(\"../out/rawdata/\"+filename+\".txt\", delimiter=',').flatten()\n",
    "refstep = data[0::4][-5:]\n",
    "u =       data[1::4][-5:]\n",
    "v =       data[2::4][-5:]\n",
    "uvdiff =  data[3::4][-5:]\n",
    "\n",
    "plt.plot(refstep,u,\"m.-\",label= \"u\")\n",
    "plt.plot(refstep,v,\"co-\",label=\"v\")\n",
    "plt.plot(refstep,uvdiff,\"b.:\",label=\"u-v\")\n",
    "plt.plot(refstep,[0.25*refstep[i]**1 for i in range(len(refstep))],\"k-.\",label=\"$O(h^1)$\")\n",
    "plt.plot(refstep,[0.02*refstep[i]**1 for i in range(len(refstep))],\"k-.\")\n",
    "plt.legend()\n",
    "plt.yscale(\"log\")\n",
    "plt.xscale(\"log\")\n",
    "plt.ylabel(\"$L^2$-error\")\n",
    "plt.xlabel(\"$h$\")\n",
    "plt.tight_layout()  \n",
    "plt.grid()\n",
    "plt.savefig(\"../out/plots/\"+filename+\".pdf\")"
   ]
  },
  {
   "attachments": {},
   "cell_type": "markdown",
   "metadata": {},
   "source": [
    "# sTGV, order 2, dt=0.0001"
   ]
  },
  {
   "cell_type": "code",
   "execution_count": null,
   "metadata": {},
   "outputs": [],
   "source": [
    "filename = \"dirichlet-conv-Re1-sTGV2\"\n",
    "\n",
    "data   = np.genfromtxt(\"../out/rawdata/\"+filename+\".txt\", delimiter=',').flatten()\n",
    "refstep = data[0::4][-4:]\n",
    "u =       data[1::4][-4:]\n",
    "v =       data[2::4][-4:]\n",
    "uvdiff =  data[3::4][-4:]\n",
    "\n",
    "plt.plot(refstep,u,\"m.-\",label= \"u\")\n",
    "plt.plot(refstep,v,\"co-\",label=\"v\")\n",
    "plt.plot(refstep,uvdiff,\"b.:\",label=\"u-v\")\n",
    "plt.plot(refstep,[0.03*refstep[i]**2 for i in range(len(refstep))],\"k-.\",label=\"$O(h^2)$\")\n",
    "plt.legend()\n",
    "plt.yscale(\"log\")\n",
    "plt.xscale(\"log\")\n",
    "plt.ylabel(\"$L^2$-error\")\n",
    "plt.xlabel(\"$h$\")\n",
    "plt.tight_layout()  \n",
    "plt.grid()\n",
    "plt.savefig(\"../out/plots/\"+filename+\".pdf\")"
   ]
  },
  {
   "cell_type": "code",
   "execution_count": null,
   "metadata": {},
   "outputs": [],
   "source": [
    "filename = \"dirichlet-conv-invisc-sTGV2\"\n",
    "\n",
    "data   = np.genfromtxt(\"../out/rawdata/\"+filename+\".txt\", delimiter=',').flatten()\n",
    "refstep = data[0::4][-4:]\n",
    "u =       data[1::4][-4:]\n",
    "v =       data[2::4][-4:]\n",
    "uvdiff =  data[3::4][-4:]\n",
    "\n",
    "plt.plot(refstep,u,\"m.-\",label= \"u\")\n",
    "plt.plot(refstep,v,\"co-\",label=\"v\")\n",
    "plt.plot(refstep,uvdiff,\"b.:\",label=\"u-v\")\n",
    "plt.plot(refstep,[0.03*refstep[i]**2 for i in range(len(refstep))],\"k-.\",label=\"$O(h^2)$\")\n",
    "plt.legend()\n",
    "plt.yscale(\"log\")\n",
    "plt.xscale(\"log\")\n",
    "plt.ylabel(\"$L^2$-error\")\n",
    "plt.xlabel(\"$h$\")\n",
    "plt.tight_layout()  \n",
    "plt.grid()\n",
    "plt.savefig(\"../out/plots/\"+filename+\".pdf\")"
   ]
  }
 ],
 "metadata": {
  "kernelspec": {
   "display_name": "Python 3",
   "language": "python",
   "name": "python3"
  },
  "language_info": {
   "codemirror_mode": {
    "name": "ipython",
    "version": 3
   },
   "file_extension": ".py",
   "mimetype": "text/x-python",
   "name": "python",
   "nbconvert_exporter": "python",
   "pygments_lexer": "ipython3",
   "version": "3.10.6"
  },
  "orig_nbformat": 4
 },
 "nbformat": 4,
 "nbformat_minor": 2
}
