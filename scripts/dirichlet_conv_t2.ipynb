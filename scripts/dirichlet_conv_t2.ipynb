{
 "cells": [
  {
   "cell_type": "code",
   "execution_count": null,
   "metadata": {},
   "outputs": [],
   "source": [
    "import numpy as np\n",
    "import matplotlib.pyplot as plt \n",
    "from numpy import genfromtxt"
   ]
  },
  {
   "cell_type": "markdown",
   "metadata": {},
   "source": []
  },
  {
   "cell_type": "code",
   "execution_count": null,
   "metadata": {},
   "outputs": [],
   "source": [
    "filename = \"dirichlet-conv-Re1-dTGV\"\n",
    "\n",
    "data   = np.genfromtxt(\"../out/rawdata/\"+filename+\".txt\", delimiter=',').flatten()\n",
    "refstep = data[0::4][-5:]\n",
    "u =       data[1::4][-5:]\n",
    "v =       data[2::4][-5:]\n",
    "uvdiff =  data[3::4][-5:]\n",
    "\n",
    "plt.plot(refstep,u,\"m.-\",label= \"u\")\n",
    "plt.plot(refstep,v,\"co-\",label=\"v\")\n",
    "plt.plot(refstep,uvdiff,\"b.:\",label=\"u-v\")\n",
    "plt.plot(refstep,[0.25*refstep[i]**1 for i in range(len(refstep))],\"k-.\",label=\"$O(h^1)$\")\n",
    "plt.plot(refstep,[0.02*refstep[i]**2 for i in range(len(refstep))],\"k--\",label=\"$O(h^2)$\")\n",
    "plt.legend()\n",
    "plt.yscale(\"log\")\n",
    "plt.xscale(\"log\")\n",
    "plt.ylabel(\"$L^2$-error\")\n",
    "plt.xlabel(\"$h$\")\n",
    "plt.tight_layout()  \n",
    "plt.grid()\n",
    "plt.savefig(\"../out/plots/\"+filename+\".pdf\")"
   ]
  }
 ],
 "metadata": {
  "language_info": {
   "name": "python"
  },
  "orig_nbformat": 4
 },
 "nbformat": 4,
 "nbformat_minor": 2
}
