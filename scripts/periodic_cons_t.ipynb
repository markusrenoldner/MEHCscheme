{
 "cells": [
  {
   "cell_type": "code",
   "execution_count": null,
   "metadata": {},
   "outputs": [],
   "source": [
    "import numpy as np\n",
    "import matplotlib.pyplot as plt \n",
    "from numpy import genfromtxt"
   ]
  },
  {
   "attachments": {},
   "cell_type": "markdown",
   "metadata": {},
   "source": [
    "- Re100, div u, div v\n",
    "- Re100, E1, E2\n",
    "- Re100, H1, H2\n",
    "- invisc, div u, div v\n",
    "- invisc, E1, E2\n",
    "- invisc, H1, H2"
   ]
  },
  {
   "attachments": {},
   "cell_type": "markdown",
   "metadata": {},
   "source": [
    "# Re100"
   ]
  },
  {
   "cell_type": "code",
   "execution_count": null,
   "metadata": {},
   "outputs": [],
   "source": [
    "filename = \"periodic-cons-Re100\"\n",
    "\n",
    "data   = np.genfromtxt(\"../out/rawdata/\"+filename+\".txt\", delimiter=',').flatten()\n",
    "time = data[0::7]\n",
    "m1 =   data[1::7]\n",
    "m2 =   data[2::7]\n",
    "k1 =   data[3::7]\n",
    "k2 =   data[4::7]\n",
    "h1 =   data[5::7]\n",
    "h2 =   data[6::7]\n",
    "\n",
    "plt.plot(time,m1,\"m\",label=\"u\")\n",
    "plt.plot(time,m2,\"c\",label=\"v\")\n",
    "plt.legend()\n",
    "plt.grid()\n",
    "plt.ylim(-1e-12,+1e-12)\n",
    "plt.xlabel(\"$t$\")\n",
    "plt.ylabel(\"divergence\")\n",
    "plt.tight_layout()\n",
    "plt.savefig(\"../out/plots/\"+filename+\"-div.pdf\")"
   ]
  },
  {
   "cell_type": "code",
   "execution_count": null,
   "metadata": {},
   "outputs": [],
   "source": [
    "plt.plot(time,k1,\"m\",label=\"$\\Delta K_1-2\\mathcal{E}_{\\zeta}$Re\")\n",
    "plt.plot(time,k2,\"c\",label=\"$\\Delta K_2-2\\mathcal{E}_{\\omega}$Re\")\n",
    "plt.legend()\n",
    "plt.grid()\n",
    "plt.ylim(-1e-11,+1e-11)\n",
    "plt.xlabel(\"$t$\")\n",
    "plt.ylabel(\"$\\Delta K_i$\")\n",
    "plt.tight_layout()\n",
    "plt.savefig(\"../out/plots/\"+filename+\"-K.pdf\")"
   ]
  },
  {
   "cell_type": "code",
   "execution_count": null,
   "metadata": {},
   "outputs": [],
   "source": [
    "plt.plot(time,h1,\"m\",label=\"$\\Delta H_1-\\mathcal{D}$\")\n",
    "plt.plot(time,h2,\"c\",label=\"$\\Delta H_2-\\mathcal{D}$\")\n",
    "plt.legend()\n",
    "plt.grid()\n",
    "plt.ylim(-1e-11,+1e-11)\n",
    "plt.xlabel(\"$t$\")\n",
    "plt.ylabel(\"$\\Delta H_i$\")\n",
    "plt.tight_layout()\n",
    "plt.savefig(\"../out/plots/\"+filename+\"-H.pdf\")"
   ]
  },
  {
   "attachments": {},
   "cell_type": "markdown",
   "metadata": {},
   "source": [
    "# inviscid"
   ]
  },
  {
   "cell_type": "code",
   "execution_count": null,
   "metadata": {},
   "outputs": [],
   "source": [
    "filename = \"periodic-cons-invisc\"\n",
    "\n",
    "data   = np.genfromtxt(\"../out/rawdata/\"+filename+\".txt\", delimiter=',').flatten()\n",
    "time = data[0::7]\n",
    "m1 =   data[1::7]\n",
    "m2 =   data[2::7]\n",
    "k1 =   data[3::7]\n",
    "k2 =   data[4::7]\n",
    "h1 =   data[5::7]\n",
    "h2 =   data[6::7]\n",
    "\n",
    "plt.plot(time,m1,\"m\",label=\"u\")\n",
    "plt.plot(time,m2,\"c\",label=\"v\")\n",
    "plt.legend()\n",
    "plt.grid()\n",
    "plt.ylim(-1e-12,+1e-12)\n",
    "plt.xlabel(\"$t$\")\n",
    "plt.ylabel(\"divergence\")\n",
    "plt.tight_layout()\n",
    "plt.savefig(\"../out/plots/\"+filename+\"-div.pdf\")"
   ]
  },
  {
   "cell_type": "code",
   "execution_count": null,
   "metadata": {},
   "outputs": [],
   "source": [
    "plt.plot(time,k1,\"m\",label=\"$\\Delta K_1$\")\n",
    "plt.plot(time,k2,\"c\",label=\"$\\Delta K_2$\")\n",
    "plt.legend()\n",
    "plt.grid()\n",
    "plt.ylim(-1e-11,+1e-11)\n",
    "plt.xlabel(\"$t$\")\n",
    "plt.ylabel(\"$\\Delta K_i$\")\n",
    "plt.tight_layout()\n",
    "plt.savefig(\"../out/plots/\"+filename+\"-K.pdf\")"
   ]
  },
  {
   "cell_type": "code",
   "execution_count": null,
   "metadata": {},
   "outputs": [],
   "source": [
    "plt.plot(time,h1,\"m\",label=\"$\\Delta H_1$\")\n",
    "plt.plot(time,h2,\"c\",label=\"$\\Delta H_2$\")\n",
    "plt.legend()\n",
    "plt.grid()\n",
    "plt.ylim(-1e-11,+1e-11)\n",
    "plt.xlabel(\"$t$\")\n",
    "plt.ylabel(\"$\\Delta H_i$\")\n",
    "plt.tight_layout()\n",
    "plt.savefig(\"../out/plots/\"+filename+\"-H.pdf\")"
   ]
  }
 ],
 "metadata": {
  "kernelspec": {
   "display_name": "Python 3",
   "language": "python",
   "name": "python3"
  },
  "language_info": {
   "codemirror_mode": {
    "name": "ipython",
    "version": 3
   },
   "file_extension": ".py",
   "mimetype": "text/x-python",
   "name": "python",
   "nbconvert_exporter": "python",
   "pygments_lexer": "ipython3",
   "version": "3.10.6"
  },
  "orig_nbformat": 4
 },
 "nbformat": 4,
 "nbformat_minor": 2
}
