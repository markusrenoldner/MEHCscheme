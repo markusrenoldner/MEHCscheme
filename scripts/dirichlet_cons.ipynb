{
 "cells": [
  {
   "cell_type": "code",
   "execution_count": null,
   "metadata": {},
   "outputs": [],
   "source": [
    "import numpy as np\n",
    "import matplotlib.pyplot as plt \n",
    "from numpy import genfromtxt"
   ]
  },
  {
   "attachments": {},
   "cell_type": "markdown",
   "metadata": {},
   "source": [
    "### title"
   ]
  },
  {
   "cell_type": "code",
   "execution_count": null,
   "metadata": {},
   "outputs": [],
   "source": [
    "data = genfromtxt(\"../out/rawdata/asdf\", delimiter=',').flatten()\n",
    "\n",
    "time = data[0::7]\n",
    "m1 =   data[1::7]\n",
    "m2 =   data[2::7]\n",
    "k1 =   data[3::7]\n",
    "k2 =   data[4::7]\n",
    "h1 =   data[5::7]\n",
    "h2 =   data[6::7]"
   ]
  }
 ],
 "metadata": {
  "language_info": {
   "name": "python"
  },
  "orig_nbformat": 4
 },
 "nbformat": 4,
 "nbformat_minor": 2
}
