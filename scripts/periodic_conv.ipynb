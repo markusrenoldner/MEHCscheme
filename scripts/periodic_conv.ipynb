{
 "cells": [
  {
   "cell_type": "code",
   "execution_count": null,
   "metadata": {},
   "outputs": [],
   "source": [
    "import numpy as np\n",
    "import matplotlib.pyplot as plt"
   ]
  },
  {
   "attachments": {},
   "cell_type": "markdown",
   "metadata": {},
   "source": [
    "### convergence, TGV wikipedia, Re=500 and time-dependent, dt=0.05, tmax=0.15"
   ]
  },
  {
   "cell_type": "code",
   "execution_count": null,
   "metadata": {},
   "outputs": [],
   "source": [
    "# # data=[\n",
    "# 0.374856\n",
    "# ,1.21622\n",
    "# ,0.902688\n",
    "# ,554.365\n",
    "# ,1\n",
    "# ,0.160748\n",
    "# ,0.607303\n",
    "# ,0.47397\n",
    "# ,17674\n",
    "# ,0.5\n",
    "# ,0.0746597\n",
    "# ,0.303475\n",
    "# ,0.311088\n",
    "# ,567222\n",
    "# ,0.25]"
   ]
  },
  {
   "cell_type": "code",
   "execution_count": null,
   "metadata": {},
   "outputs": [],
   "source": [
    "data = np.genfromtxt(\"../out/rawdata/periodic-conv-Re500.txt\", delimiter=',').flatten()\n",
    "\n",
    "refstep = data[0::4]\n",
    "u =       data[1::4]\n",
    "v =       data[2::4]\n",
    "uvdiff =  data[3::4]"
   ]
  },
  {
   "cell_type": "code",
   "execution_count": null,
   "metadata": {},
   "outputs": [],
   "source": [
    "plt.plot(refstep,u,\"m.-\"     ,label=\"u\")\n",
    "plt.plot(refstep,v,\"c.-\"    ,label=\"v\")\n",
    "plt.plot(refstep,uvdiff,\"k.--\",label=\"u-v\")\n",
    "plt.grid()\n",
    "plt.legend()\n",
    "plt.xlabel(\"meshsize in multiples of $h_0$\")\n",
    "plt.ylabel(\"$L_2$-error\")\n",
    "plt.xscale(\"log\")\n",
    "plt.yscale(\"log\")\n",
    "plt.tight_layout()\n",
    "# plt.savefig(\"../out/plots/periodic_conv_Re500_TGV_timedep.pdf\")"
   ]
  },
  {
   "attachments": {},
   "cell_type": "markdown",
   "metadata": {},
   "source": [
    "### convergence, TGV wikipedia, Re=\\infty, dt=0.05, tmax=0.15"
   ]
  },
  {
   "cell_type": "code",
   "execution_count": null,
   "metadata": {},
   "outputs": [],
   "source": [
    "# order: |u-u_exact| , |v-v_exact| , |u-v| , time in ms , normed meshsize\n",
    "# data=[\n",
    "# 0.37377\n",
    "# ,1.21499\n",
    "# ,0.895307\n",
    "# ,753.407\n",
    "# ,1\n",
    "# ,0.160612\n",
    "# ,0.605823\n",
    "# ,0.470036\n",
    "# ,16758.4\n",
    "# ,0.5\n",
    "# ,0.074094\n",
    "# ,0.302469\n",
    "# ,0.309974\n",
    "# ,507134\n",
    "# ,0.25]\n",
    "# v =      data[0::5]\n",
    "# u =      data[1::5]\n",
    "# uvdiff = data[2::5]\n",
    "# time =   data[3::5]\n",
    "# meshsize = data[4::5]"
   ]
  },
  {
   "cell_type": "code",
   "execution_count": null,
   "metadata": {},
   "outputs": [],
   "source": [
    "data = np.genfromtxt(\"../out/rawdata/periodic-conv-invisc.txt\", delimiter=',').flatten()\n",
    "\n",
    "refstep = data[0::4]\n",
    "u =       data[1::4]\n",
    "v =       data[2::4]\n",
    "uvdiff =  data[3::4]"
   ]
  },
  {
   "cell_type": "code",
   "execution_count": null,
   "metadata": {},
   "outputs": [],
   "source": [
    "plt.plot(meshsize,uvdiff,\"c.-\",label=\"u-v\")\n",
    "plt.plot(meshsize,u,\"m.-\"     ,label=\"u\")\n",
    "plt.plot(meshsize,v,\"k.--\"    ,label=\"v\")\n",
    "plt.grid()\n",
    "plt.legend()\n",
    "plt.xlabel(\"meshsize in multiples of $h_0$\")\n",
    "plt.ylabel(\"$L_2$-error\")\n",
    "plt.xscale(\"log\")\n",
    "plt.yscale(\"log\")\n",
    "plt.tight_layout()\n",
    "# plt.savefig(\"../out/plots/periodic_conv_inviscid_TGV.pdf\")"
   ]
  },
  {
   "attachments": {},
   "cell_type": "markdown",
   "metadata": {},
   "source": [
    "### convergence, TGV, Re=500, dt=0.05, tmax=0.15\n",
    "### outdated!!!"
   ]
  },
  {
   "cell_type": "code",
   "execution_count": null,
   "metadata": {},
   "outputs": [],
   "source": []
  },
  {
   "cell_type": "code",
   "execution_count": null,
   "metadata": {},
   "outputs": [],
   "source": []
  },
  {
   "cell_type": "code",
   "execution_count": null,
   "metadata": {},
   "outputs": [],
   "source": []
  },
  {
   "cell_type": "code",
   "execution_count": null,
   "metadata": {},
   "outputs": [],
   "source": [
    "data = [\n",
    "1.80583\n",
    ",1.78766\n",
    ",0.357294\n",
    ",411.853\n",
    ",1\n",
    ",1.79168\n",
    ",1.78718\n",
    ",0.254077\n",
    ",26230.7\n",
    ",0.5\n",
    ",1.78777\n",
    ",1.78651\n",
    ",0.177337\n",
    ",1.05108e+06\n",
    ",0.25]\n",
    "\n",
    "v =      data[0::5]\n",
    "u =      data[1::5]\n",
    "uvdiff = data[2::5]\n",
    "time =   data[3::5]\n",
    "meshsize = data[4::5]"
   ]
  },
  {
   "cell_type": "code",
   "execution_count": null,
   "metadata": {},
   "outputs": [],
   "source": [
    "plt.plot(meshsize,uvdiff,\"c.-\",label=\"u-v\")\n",
    "plt.plot(meshsize,u,\"m.-\"     ,label=\"u\")\n",
    "plt.plot(meshsize,v,\"k.--\"    ,label=\"v\")\n",
    "plt.grid()\n",
    "plt.legend()\n",
    "plt.xlabel(\"meshsize in multiples of $h_0$\")\n",
    "plt.ylabel(\"$L_2$-error\")\n",
    "plt.xscale(\"log\")\n",
    "plt.tight_layout()\n",
    "plt.yscale(\"log\")\n",
    "# plt.savefig(\"../out/periodic_conv_TGV_Re500.pdf\")"
   ]
  },
  {
   "attachments": {},
   "cell_type": "markdown",
   "metadata": {},
   "source": [
    "### convergence, TGV, Re=1, dt=0.05, tmax=0.15\n",
    "### outdated!!!"
   ]
  },
  {
   "cell_type": "code",
   "execution_count": null,
   "metadata": {},
   "outputs": [],
   "source": [
    "data = [\n",
    "1.80623\n",
    ",1.76715\n",
    ",0.511253\n",
    ",460.742\n",
    ",1\n",
    ",1.7789\n",
    ",1.76715\n",
    ",0.407549\n",
    ",39214.6\n",
    ",0.5\n",
    ",1.77066\n",
    ",1.76716\n",
    ",0.312272\n",
    ",1.83541e+06\n",
    ",0.25\n",
    "]\n",
    "\n",
    "v =      data[0::5]\n",
    "u =      data[1::5]\n",
    "uvdiff = data[2::5]\n",
    "time =   data[3::5]\n",
    "meshsize = data[4::5]"
   ]
  },
  {
   "cell_type": "code",
   "execution_count": null,
   "metadata": {},
   "outputs": [],
   "source": [
    "plt.plot(meshsize,uvdiff,\"c.-\",label=\"u-v\")\n",
    "plt.plot(meshsize,u,\"m.-\"     ,label=\"u\")\n",
    "plt.plot(meshsize,v,\"k.--\"    ,label=\"v\")\n",
    "plt.grid()\n",
    "plt.legend()\n",
    "plt.xlabel(\"meshsize in multiples of $h_0$\")\n",
    "plt.ylabel(\"$L_2$-error\")\n",
    "plt.xscale(\"log\")\n",
    "plt.yscale(\"log\")\n",
    "plt.tight_layout()\n",
    "# plt.savefig(\"../out/periodic_conv_TGV_Re1.pdf\")"
   ]
  }
 ],
 "metadata": {
  "kernelspec": {
   "display_name": "Python 3",
   "language": "python",
   "name": "python3"
  },
  "language_info": {
   "codemirror_mode": {
    "name": "ipython",
    "version": 3
   },
   "file_extension": ".py",
   "mimetype": "text/x-python",
   "name": "python",
   "nbconvert_exporter": "python",
   "pygments_lexer": "ipython3",
   "version": "3.10.6"
  },
  "orig_nbformat": 4,
  "vscode": {
   "interpreter": {
    "hash": "916dbcbb3f70747c44a77c7bcd40155683ae19c65e1c03b4aa3499c5328201f1"
   }
  }
 },
 "nbformat": 4,
 "nbformat_minor": 2
}
